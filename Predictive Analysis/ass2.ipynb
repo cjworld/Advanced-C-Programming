{
 "cells": [
  {
   "cell_type": "markdown",
   "metadata": {},
   "source": [
    "# Assignment 2\n"
   ]
  },
  {
   "cell_type": "markdown",
   "metadata": {},
   "source": [
    "Chiyu Chen"
   ]
  },
  {
   "cell_type": "code",
   "execution_count": 1,
   "metadata": {},
   "outputs": [],
   "source": [
    "import pandas as pd\n",
    "import numpy as np\n",
    "from sklearn import datasets"
   ]
  },
  {
   "cell_type": "code",
   "execution_count": 2,
   "metadata": {},
   "outputs": [],
   "source": [
    "iris = datasets.load_iris()\n",
    "iris_df = pd.DataFrame(data= np.c_[iris['data'], iris['target']], columns= iris['feature_names'] + ['target'])\n",
    "target_names = iris['target_names']"
   ]
  },
  {
   "cell_type": "code",
   "execution_count": 3,
   "metadata": {},
   "outputs": [],
   "source": [
    "def likelihood(df, sepal_length, sepal_width, petal_length, petal_width):\n",
    "    likelihood = 1.0\n",
    "    df_means = df.mean()\n",
    "    df_std = df.std()\n",
    "    attr_list = [('sepal length (cm)', sepal_length), ('sepal width (cm)', sepal_width), ('petal length (cm)', petal_length), ('petal width (cm)', petal_width)]\n",
    "    for attrname, attrval in attr_list:\n",
    "        nominator = np.exp(np.divide(-(np.square(attrval - df_means[attrname])), np.square(df_std[attrname]) * 2.0))\n",
    "        denominator = np.sqrt(np.pi * 2.0) * df_std[attrname]\n",
    "        tmp = np.divide(nominator, denominator)\n",
    "        likelihood *= tmp\n",
    "    return likelihood\n",
    "\n",
    "def posterior(df, sepal_length, sepal_width, petal_length, petal_width):\n",
    "    classes = [0, 1, 2]\n",
    "    priors = df['target']. value_counts() / df.shape[0]\n",
    "    posters = []\n",
    "    for cls in classes:\n",
    "        pri = priors[cls]\n",
    "        llh = likelihood(df[df[\"target\"] == cls], sepal_length, sepal_width, petal_length, petal_width)\n",
    "        posters.append(pri * llh)\n",
    "    return posters\n",
    "\n",
    "def max_a_posterior(df, sepal_length, sepal_width, petal_length, petal_width):\n",
    "    posters = posterior(df, sepal_length, sepal_width, petal_length, petal_width)\n",
    "    print(posters)\n",
    "    return np.argmax(posters)"
   ]
  },
  {
   "cell_type": "code",
   "execution_count": 4,
   "metadata": {},
   "outputs": [
    {
     "name": "stdout",
     "output_type": "stream",
     "text": [
      "[2.0931983947119886e-191, 7.233385380727956e-08, 0.0011852765941950457]\n"
     ]
    },
    {
     "data": {
      "text/plain": [
       "'virginica'"
      ]
     },
     "execution_count": 4,
     "metadata": {},
     "output_type": "execute_result"
    }
   ],
   "source": [
    "target_names[max_a_posterior(iris_df, 4.5, 3.0, 5.6, 2.1)]"
   ]
  },
  {
   "cell_type": "code",
   "execution_count": 5,
   "metadata": {},
   "outputs": [
    {
     "name": "stdout",
     "output_type": "stream",
     "text": [
      "[3.937733951289929e-69, 4.276732727915964e-11, 6.010508529199821e-15]\n"
     ]
    },
    {
     "data": {
      "text/plain": [
       "'versicolor'"
      ]
     },
     "execution_count": 5,
     "metadata": {},
     "output_type": "execute_result"
    }
   ],
   "source": [
    "target_names[max_a_posterior(iris_df, 5.4, 2.6, 4.5, 0.0)]"
   ]
  }
 ],
 "metadata": {
  "kernelspec": {
   "display_name": "Python 3",
   "language": "python",
   "name": "python3"
  },
  "language_info": {
   "codemirror_mode": {
    "name": "ipython",
    "version": 3
   },
   "file_extension": ".py",
   "mimetype": "text/x-python",
   "name": "python",
   "nbconvert_exporter": "python",
   "pygments_lexer": "ipython3",
   "version": "3.7.0"
  }
 },
 "nbformat": 4,
 "nbformat_minor": 2
}
